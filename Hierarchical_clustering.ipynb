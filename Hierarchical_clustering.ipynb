{
 "cells": [
  {
   "cell_type": "code",
   "execution_count": 40,
   "id": "18b629e1",
   "metadata": {},
   "outputs": [],
   "source": [
    "import pandas as pd \n",
    "import numpy as np\n",
    "import seaborn as sns\n",
    "import matplotlib.pyplot as plt\n",
    "import scipy.cluster.hierarchy as sch                  #for creating dendrogram\n",
    "from sklearn.cluster import AgglomerativeClustering    #for creating clustering\n",
    "from sklearn.preprocessing import MinMaxScaler \n",
    "from numpy import set_printoptions\n",
    "import warnings\n",
    "warnings.filterwarnings(\"ignore\")"
   ]
  },
  {
   "cell_type": "code",
   "execution_count": 33,
   "id": "d78c8fd0",
   "metadata": {},
   "outputs": [],
   "source": [
    "Univ = pd.read_csv(\"G:/data sceince/Python/Clustering/Hierarchical clustering/Universities.csv\")"
   ]
  },
  {
   "cell_type": "code",
   "execution_count": 34,
   "id": "1331530f",
   "metadata": {},
   "outputs": [
    {
     "data": {
      "text/html": [
       "<div>\n",
       "<style scoped>\n",
       "    .dataframe tbody tr th:only-of-type {\n",
       "        vertical-align: middle;\n",
       "    }\n",
       "\n",
       "    .dataframe tbody tr th {\n",
       "        vertical-align: top;\n",
       "    }\n",
       "\n",
       "    .dataframe thead th {\n",
       "        text-align: right;\n",
       "    }\n",
       "</style>\n",
       "<table border=\"1\" class=\"dataframe\">\n",
       "  <thead>\n",
       "    <tr style=\"text-align: right;\">\n",
       "      <th></th>\n",
       "      <th>Univ</th>\n",
       "      <th>SAT</th>\n",
       "      <th>Top10</th>\n",
       "      <th>Accept</th>\n",
       "      <th>SFRatio</th>\n",
       "      <th>Expenses</th>\n",
       "      <th>GradRate</th>\n",
       "    </tr>\n",
       "  </thead>\n",
       "  <tbody>\n",
       "    <tr>\n",
       "      <th>0</th>\n",
       "      <td>Brown</td>\n",
       "      <td>1310</td>\n",
       "      <td>89</td>\n",
       "      <td>22</td>\n",
       "      <td>13</td>\n",
       "      <td>22704</td>\n",
       "      <td>94</td>\n",
       "    </tr>\n",
       "    <tr>\n",
       "      <th>1</th>\n",
       "      <td>CalTech</td>\n",
       "      <td>1415</td>\n",
       "      <td>100</td>\n",
       "      <td>25</td>\n",
       "      <td>6</td>\n",
       "      <td>63575</td>\n",
       "      <td>81</td>\n",
       "    </tr>\n",
       "    <tr>\n",
       "      <th>2</th>\n",
       "      <td>CMU</td>\n",
       "      <td>1260</td>\n",
       "      <td>62</td>\n",
       "      <td>59</td>\n",
       "      <td>9</td>\n",
       "      <td>25026</td>\n",
       "      <td>72</td>\n",
       "    </tr>\n",
       "    <tr>\n",
       "      <th>3</th>\n",
       "      <td>Columbia</td>\n",
       "      <td>1310</td>\n",
       "      <td>76</td>\n",
       "      <td>24</td>\n",
       "      <td>12</td>\n",
       "      <td>31510</td>\n",
       "      <td>88</td>\n",
       "    </tr>\n",
       "    <tr>\n",
       "      <th>4</th>\n",
       "      <td>Cornell</td>\n",
       "      <td>1280</td>\n",
       "      <td>83</td>\n",
       "      <td>33</td>\n",
       "      <td>13</td>\n",
       "      <td>21864</td>\n",
       "      <td>90</td>\n",
       "    </tr>\n",
       "  </tbody>\n",
       "</table>\n",
       "</div>"
      ],
      "text/plain": [
       "       Univ   SAT  Top10  Accept  SFRatio  Expenses  GradRate\n",
       "0     Brown  1310     89      22       13     22704        94\n",
       "1   CalTech  1415    100      25        6     63575        81\n",
       "2       CMU  1260     62      59        9     25026        72\n",
       "3  Columbia  1310     76      24       12     31510        88\n",
       "4   Cornell  1280     83      33       13     21864        90"
      ]
     },
     "execution_count": 34,
     "metadata": {},
     "output_type": "execute_result"
    }
   ],
   "source": [
    "Univ.head()"
   ]
  },
  {
   "cell_type": "code",
   "execution_count": null,
   "id": "084f7c14",
   "metadata": {},
   "outputs": [],
   "source": [
    "# performing business decisions"
   ]
  },
  {
   "cell_type": "code",
   "execution_count": 35,
   "id": "dd1b2582",
   "metadata": {},
   "outputs": [
    {
     "data": {
      "text/html": [
       "<div>\n",
       "<style scoped>\n",
       "    .dataframe tbody tr th:only-of-type {\n",
       "        vertical-align: middle;\n",
       "    }\n",
       "\n",
       "    .dataframe tbody tr th {\n",
       "        vertical-align: top;\n",
       "    }\n",
       "\n",
       "    .dataframe thead th {\n",
       "        text-align: right;\n",
       "    }\n",
       "</style>\n",
       "<table border=\"1\" class=\"dataframe\">\n",
       "  <thead>\n",
       "    <tr style=\"text-align: right;\">\n",
       "      <th></th>\n",
       "      <th>SAT</th>\n",
       "      <th>Top10</th>\n",
       "      <th>Accept</th>\n",
       "      <th>SFRatio</th>\n",
       "      <th>Expenses</th>\n",
       "      <th>GradRate</th>\n",
       "    </tr>\n",
       "  </thead>\n",
       "  <tbody>\n",
       "    <tr>\n",
       "      <th>count</th>\n",
       "      <td>25.000000</td>\n",
       "      <td>25.000000</td>\n",
       "      <td>25.000000</td>\n",
       "      <td>25.00000</td>\n",
       "      <td>25.000000</td>\n",
       "      <td>25.000000</td>\n",
       "    </tr>\n",
       "    <tr>\n",
       "      <th>mean</th>\n",
       "      <td>1266.440000</td>\n",
       "      <td>76.480000</td>\n",
       "      <td>39.200000</td>\n",
       "      <td>12.72000</td>\n",
       "      <td>27388.000000</td>\n",
       "      <td>86.720000</td>\n",
       "    </tr>\n",
       "    <tr>\n",
       "      <th>std</th>\n",
       "      <td>108.359771</td>\n",
       "      <td>19.433905</td>\n",
       "      <td>19.727308</td>\n",
       "      <td>4.06735</td>\n",
       "      <td>14424.883165</td>\n",
       "      <td>9.057778</td>\n",
       "    </tr>\n",
       "    <tr>\n",
       "      <th>min</th>\n",
       "      <td>1005.000000</td>\n",
       "      <td>28.000000</td>\n",
       "      <td>14.000000</td>\n",
       "      <td>6.00000</td>\n",
       "      <td>8704.000000</td>\n",
       "      <td>67.000000</td>\n",
       "    </tr>\n",
       "    <tr>\n",
       "      <th>25%</th>\n",
       "      <td>1240.000000</td>\n",
       "      <td>74.000000</td>\n",
       "      <td>24.000000</td>\n",
       "      <td>11.00000</td>\n",
       "      <td>15140.000000</td>\n",
       "      <td>81.000000</td>\n",
       "    </tr>\n",
       "    <tr>\n",
       "      <th>50%</th>\n",
       "      <td>1285.000000</td>\n",
       "      <td>81.000000</td>\n",
       "      <td>36.000000</td>\n",
       "      <td>12.00000</td>\n",
       "      <td>27553.000000</td>\n",
       "      <td>90.000000</td>\n",
       "    </tr>\n",
       "    <tr>\n",
       "      <th>75%</th>\n",
       "      <td>1340.000000</td>\n",
       "      <td>90.000000</td>\n",
       "      <td>50.000000</td>\n",
       "      <td>14.00000</td>\n",
       "      <td>34870.000000</td>\n",
       "      <td>94.000000</td>\n",
       "    </tr>\n",
       "    <tr>\n",
       "      <th>max</th>\n",
       "      <td>1415.000000</td>\n",
       "      <td>100.000000</td>\n",
       "      <td>90.000000</td>\n",
       "      <td>25.00000</td>\n",
       "      <td>63575.000000</td>\n",
       "      <td>97.000000</td>\n",
       "    </tr>\n",
       "  </tbody>\n",
       "</table>\n",
       "</div>"
      ],
      "text/plain": [
       "               SAT       Top10     Accept   SFRatio      Expenses   GradRate\n",
       "count    25.000000   25.000000  25.000000  25.00000     25.000000  25.000000\n",
       "mean   1266.440000   76.480000  39.200000  12.72000  27388.000000  86.720000\n",
       "std     108.359771   19.433905  19.727308   4.06735  14424.883165   9.057778\n",
       "min    1005.000000   28.000000  14.000000   6.00000   8704.000000  67.000000\n",
       "25%    1240.000000   74.000000  24.000000  11.00000  15140.000000  81.000000\n",
       "50%    1285.000000   81.000000  36.000000  12.00000  27553.000000  90.000000\n",
       "75%    1340.000000   90.000000  50.000000  14.00000  34870.000000  94.000000\n",
       "max    1415.000000  100.000000  90.000000  25.00000  63575.000000  97.000000"
      ]
     },
     "execution_count": 35,
     "metadata": {},
     "output_type": "execute_result"
    }
   ],
   "source": [
    "Univ.describe()"
   ]
  },
  {
   "cell_type": "code",
   "execution_count": null,
   "id": "249eab13",
   "metadata": {},
   "outputs": [],
   "source": [
    "# checking normaliztion"
   ]
  },
  {
   "cell_type": "code",
   "execution_count": 44,
   "id": "191e30f6",
   "metadata": {
    "scrolled": true
   },
   "outputs": [
    {
     "data": {
      "text/plain": [
       "<seaborn.axisgrid.PairGrid at 0x1843d185190>"
      ]
     },
     "execution_count": 44,
     "metadata": {},
     "output_type": "execute_result"
    },
    {
     "data": {
      "image/png": "[encoded data removed]",
      "text/plain": [
       "<Figure size 1080x1080 with 42 Axes>"
      ]
     },
     "metadata": {
      "needs_background": "light"
     },
     "output_type": "display_data"
    }
   ],
   "source": [
    "sns.pairplot(Univ)"
   ]
  },
  {
   "cell_type": "code",
   "execution_count": null,
   "id": "8e278e5f",
   "metadata": {},
   "outputs": [],
   "source": [
    "# checking for outliers in data"
   ]
  },
  {
   "cell_type": "code",
   "execution_count": 46,
   "id": "65bf6ab1",
   "metadata": {
    "scrolled": true
   },
   "outputs": [
    {
     "data": {
      "text/plain": [
       "<AxesSubplot:xlabel='SAT'>"
      ]
     },
     "execution_count": 46,
     "metadata": {},
     "output_type": "execute_result"
    },
    {
     "data": {
      "image/png": "[encoded data removed]",
      "text/plain": [
       "<Figure size 432x288 with 1 Axes>"
      ]
     },
     "metadata": {
      "needs_background": "light"
     },
     "output_type": "display_data"
    }
   ],
   "source": [
    "sns.boxplot(Univ['SAT'])"
   ]
  },
  {
   "cell_type": "code",
   "execution_count": 47,
   "id": "7d0f0b2a",
   "metadata": {},
   "outputs": [
    {
     "data": {
      "text/plain": [
       "<AxesSubplot:xlabel='Top10'>"
      ]
     },
     "execution_count": 47,
     "metadata": {},
     "output_type": "execute_result"
    },
    {
     "data": {
      "image/png": "[encoded data removed]",
      "text/plain": [
       "<Figure size 432x288 with 1 Axes>"
      ]
     },
     "metadata": {
      "needs_background": "light"
     },
     "output_type": "display_data"
    }
   ],
   "source": [
    "sns.boxplot(Univ['Top10'])"
   ]
  },
  {
   "cell_type": "code",
   "execution_count": 48,
   "id": "4e86a874",
   "metadata": {},
   "outputs": [
    {
     "data": {
      "text/plain": [
       "<AxesSubplot:xlabel='Accept'>"
      ]
     },
     "execution_count": 48,
     "metadata": {},
     "output_type": "execute_result"
    },
    {
     "data": {
      "image/png": "[encoded data removed]",
      "text/plain": [
       "<Figure size 432x288 with 1 Axes>"
      ]
     },
     "metadata": {
      "needs_background": "light"
     },
     "output_type": "display_data"
    }
   ],
   "source": [
    "sns.boxplot(Univ['Accept'])"
   ]
  },
  {
   "cell_type": "code",
   "execution_count": 49,
   "id": "60e170f9",
   "metadata": {},
   "outputs": [
    {
     "data": {
      "text/plain": [
       "<AxesSubplot:xlabel='SFRatio'>"
      ]
     },
     "execution_count": 49,
     "metadata": {},
     "output_type": "execute_result"
    },
    {
     "data": {
      "image/png": "[encoded data removed]",
      "text/plain": [
       "<Figure size 432x288 with 1 Axes>"
      ]
     },
     "metadata": {
      "needs_background": "light"
     },
     "output_type": "display_data"
    }
   ],
   "source": [
    "sns.boxplot(Univ['SFRatio'])"
   ]
  },
  {
   "cell_type": "code",
   "execution_count": 50,
   "id": "0470d161",
   "metadata": {},
   "outputs": [
    {
     "data": {
      "text/plain": [
       "<AxesSubplot:xlabel='Expenses'>"
      ]
     },
     "execution_count": 50,
     "metadata": {},
     "output_type": "execute_result"
    },
    {
     "data": {
      "image/png": "[encoded data removed]",
      "text/plain": [
       "<Figure size 432x288 with 1 Axes>"
      ]
     },
     "metadata": {
      "needs_background": "light"
     },
     "output_type": "display_data"
    }
   ],
   "source": [
    "sns.boxplot(Univ['Expenses'])"
   ]
  },
  {
   "cell_type": "code",
   "execution_count": 51,
   "id": "a776feeb",
   "metadata": {},
   "outputs": [
    {
     "data": {
      "text/plain": [
       "<AxesSubplot:xlabel='GradRate'>"
      ]
     },
     "execution_count": 51,
     "metadata": {},
     "output_type": "execute_result"
    },
    {
     "data": {
      "image/png": "[encoded data removed]",
      "text/plain": [
       "<Figure size 432x288 with 1 Axes>"
      ]
     },
     "metadata": {
      "needs_background": "light"
     },
     "output_type": "display_data"
    }
   ],
   "source": [
    "sns.boxplot(Univ['GradRate'])"
   ]
  },
  {
   "cell_type": "code",
   "execution_count": null,
   "id": "8ac0a9d6",
   "metadata": {},
   "outputs": [],
   "source": [
    "# checking for null value"
   ]
  },
  {
   "cell_type": "code",
   "execution_count": 52,
   "id": "f8995d98",
   "metadata": {},
   "outputs": [
    {
     "name": "stdout",
     "output_type": "stream",
     "text": [
      "<class 'pandas.core.frame.DataFrame'>\n",
      "RangeIndex: 25 entries, 0 to 24\n",
      "Data columns (total 7 columns):\n",
      " #   Column    Non-Null Count  Dtype \n",
      "---  ------    --------------  ----- \n",
      " 0   Univ      25 non-null     object\n",
      " 1   SAT       25 non-null     int64 \n",
      " 2   Top10     25 non-null     int64 \n",
      " 3   Accept    25 non-null     int64 \n",
      " 4   SFRatio   25 non-null     int64 \n",
      " 5   Expenses  25 non-null     int64 \n",
      " 6   GradRate  25 non-null     int64 \n",
      "dtypes: int64(6), object(1)\n",
      "memory usage: 1.5+ KB\n"
     ]
    }
   ],
   "source": [
    "Univ.info()"
   ]
  },
  {
   "cell_type": "code",
   "execution_count": null,
   "id": "b92a8e21",
   "metadata": {},
   "outputs": [],
   "source": [
    "# Normalizing the values using minmax scaler function"
   ]
  },
  {
   "cell_type": "code",
   "execution_count": 53,
   "id": "1a8c11e8",
   "metadata": {},
   "outputs": [],
   "source": [
    "array = Univ.values"
   ]
  },
  {
   "cell_type": "code",
   "execution_count": 54,
   "id": "01e85138",
   "metadata": {},
   "outputs": [
    {
     "data": {
      "text/plain": [
       "array([['Brown', 1310, 89, 22, 13, 22704, 94],\n",
       "       ['CalTech', 1415, 100, 25, 6, 63575, 81],\n",
       "       ['CMU', 1260, 62, 59, 9, 25026, 72],\n",
       "       ['Columbia', 1310, 76, 24, 12, 31510, 88],\n",
       "       ['Cornell', 1280, 83, 33, 13, 21864, 90],\n",
       "       ['Dartmouth', 1340, 89, 23, 10, 32162, 95],\n",
       "       ['Duke', 1315, 90, 30, 12, 31585, 95],\n",
       "       ['Georgetown', 1255, 74, 24, 12, 20126, 92],\n",
       "       ['Harvard', 1400, 91, 14, 11, 39525, 97],\n",
       "       ['JohnsHopkins', 1305, 75, 44, 7, 58691, 87],\n",
       "       ['MIT', 1380, 94, 30, 10, 34870, 91],\n",
       "       ['Northwestern', 1260, 85, 39, 11, 28052, 89],\n",
       "       ['NotreDame', 1255, 81, 42, 13, 15122, 94],\n",
       "       ['PennState', 1081, 38, 54, 18, 10185, 80],\n",
       "       ['Princeton', 1375, 91, 14, 8, 30220, 95],\n",
       "       ['Purdue', 1005, 28, 90, 19, 9066, 69],\n",
       "       ['Stanford', 1360, 90, 20, 12, 36450, 93],\n",
       "       ['TexasA&M', 1075, 49, 67, 25, 8704, 67],\n",
       "       ['UCBerkeley', 1240, 95, 40, 17, 15140, 78],\n",
       "       ['UChicago', 1290, 75, 50, 13, 38380, 87],\n",
       "       ['UMichigan', 1180, 65, 68, 16, 15470, 85],\n",
       "       ['UPenn', 1285, 80, 36, 11, 27553, 90],\n",
       "       ['UVA', 1225, 77, 44, 14, 13349, 92],\n",
       "       ['UWisconsin', 1085, 40, 69, 15, 11857, 71],\n",
       "       ['Yale', 1375, 95, 19, 11, 43514, 96]], dtype=object)"
      ]
     },
     "execution_count": 54,
     "metadata": {},
     "output_type": "execute_result"
    }
   ],
   "source": [
    "array"
   ]
  },
  {
   "cell_type": "code",
   "execution_count": 55,
   "id": "3cec05e1",
   "metadata": {},
   "outputs": [
    {
     "name": "stdout",
     "output_type": "stream",
     "text": [
      "[[0.85 0.11 0.37 0.26 0.9 ]\n",
      " [1.   0.14 0.   1.   0.47]\n",
      " [0.47 0.59 0.16 0.3  0.17]\n",
      " [0.67 0.13 0.32 0.42 0.7 ]\n",
      " [0.76 0.25 0.37 0.24 0.77]\n",
      " [0.85 0.12 0.21 0.43 0.93]\n",
      " [0.86 0.21 0.32 0.42 0.93]\n",
      " [0.64 0.13 0.32 0.21 0.83]\n",
      " [0.88 0.   0.26 0.56 1.  ]\n",
      " [0.65 0.39 0.05 0.91 0.67]\n",
      " [0.92 0.21 0.21 0.48 0.8 ]\n",
      " [0.79 0.33 0.26 0.35 0.73]\n",
      " [0.74 0.37 0.37 0.12 0.9 ]\n",
      " [0.14 0.53 0.63 0.03 0.43]\n",
      " [0.88 0.   0.11 0.39 0.93]\n",
      " [0.   1.   0.68 0.01 0.07]\n",
      " [0.86 0.08 0.32 0.51 0.87]\n",
      " [0.29 0.7  1.   0.   0.  ]\n",
      " [0.93 0.34 0.58 0.12 0.37]\n",
      " [0.65 0.47 0.37 0.54 0.67]\n",
      " [0.51 0.71 0.53 0.12 0.6 ]\n",
      " [0.72 0.29 0.26 0.34 0.77]\n",
      " [0.68 0.39 0.42 0.08 0.83]\n",
      " [0.17 0.72 0.47 0.06 0.13]\n",
      " [0.93 0.07 0.26 0.63 0.97]]\n"
     ]
    }
   ],
   "source": [
    "array = Univ.values\n",
    "\n",
    "scaler = MinMaxScaler(feature_range = (0,1))\n",
    "rescaledx = scaler.fit_transform(array[:,1:])\n",
    "\n",
    "set_printoptions(precision = 2)\n",
    "print(rescaledx[:,1:])"
   ]
  },
  {
   "cell_type": "code",
   "execution_count": null,
   "id": "7cc891cf",
   "metadata": {},
   "outputs": [],
   "source": [
    "# normalizing the values using user defined function"
   ]
  },
  {
   "cell_type": "code",
   "execution_count": 56,
   "id": "7faec386",
   "metadata": {},
   "outputs": [],
   "source": [
    "def norm_func(i):\n",
    "    x = (i-i.min())/(i.max()-i.min())\n",
    "    return (x)"
   ]
  },
  {
   "cell_type": "code",
   "execution_count": 57,
   "id": "12810b31",
   "metadata": {},
   "outputs": [],
   "source": [
    "df_norm = norm_func(Univ.iloc[:,1:])"
   ]
  },
  {
   "cell_type": "code",
   "execution_count": 18,
   "id": "cb958a70",
   "metadata": {},
   "outputs": [
    {
     "data": {
      "text/html": [
       "<div>\n",
       "<style scoped>\n",
       "    .dataframe tbody tr th:only-of-type {\n",
       "        vertical-align: middle;\n",
       "    }\n",
       "\n",
       "    .dataframe tbody tr th {\n",
       "        vertical-align: top;\n",
       "    }\n",
       "\n",
       "    .dataframe thead th {\n",
       "        text-align: right;\n",
       "    }\n",
       "</style>\n",
       "<table border=\"1\" class=\"dataframe\">\n",
       "  <thead>\n",
       "    <tr style=\"text-align: right;\">\n",
       "      <th></th>\n",
       "      <th>SAT</th>\n",
       "      <th>Top10</th>\n",
       "      <th>Accept</th>\n",
       "      <th>SFRatio</th>\n",
       "      <th>Expenses</th>\n",
       "      <th>GradRate</th>\n",
       "    </tr>\n",
       "  </thead>\n",
       "  <tbody>\n",
       "    <tr>\n",
       "      <th>0</th>\n",
       "      <td>0.743902</td>\n",
       "      <td>0.847222</td>\n",
       "      <td>0.105263</td>\n",
       "      <td>0.368421</td>\n",
       "      <td>0.255144</td>\n",
       "      <td>0.900000</td>\n",
       "    </tr>\n",
       "    <tr>\n",
       "      <th>1</th>\n",
       "      <td>1.000000</td>\n",
       "      <td>1.000000</td>\n",
       "      <td>0.144737</td>\n",
       "      <td>0.000000</td>\n",
       "      <td>1.000000</td>\n",
       "      <td>0.466667</td>\n",
       "    </tr>\n",
       "    <tr>\n",
       "      <th>2</th>\n",
       "      <td>0.621951</td>\n",
       "      <td>0.472222</td>\n",
       "      <td>0.592105</td>\n",
       "      <td>0.157895</td>\n",
       "      <td>0.297461</td>\n",
       "      <td>0.166667</td>\n",
       "    </tr>\n",
       "    <tr>\n",
       "      <th>3</th>\n",
       "      <td>0.743902</td>\n",
       "      <td>0.666667</td>\n",
       "      <td>0.131579</td>\n",
       "      <td>0.315789</td>\n",
       "      <td>0.415629</td>\n",
       "      <td>0.700000</td>\n",
       "    </tr>\n",
       "    <tr>\n",
       "      <th>4</th>\n",
       "      <td>0.670732</td>\n",
       "      <td>0.763889</td>\n",
       "      <td>0.250000</td>\n",
       "      <td>0.368421</td>\n",
       "      <td>0.239835</td>\n",
       "      <td>0.766667</td>\n",
       "    </tr>\n",
       "    <tr>\n",
       "      <th>5</th>\n",
       "      <td>0.817073</td>\n",
       "      <td>0.847222</td>\n",
       "      <td>0.118421</td>\n",
       "      <td>0.210526</td>\n",
       "      <td>0.427512</td>\n",
       "      <td>0.933333</td>\n",
       "    </tr>\n",
       "    <tr>\n",
       "      <th>6</th>\n",
       "      <td>0.756098</td>\n",
       "      <td>0.861111</td>\n",
       "      <td>0.210526</td>\n",
       "      <td>0.315789</td>\n",
       "      <td>0.416996</td>\n",
       "      <td>0.933333</td>\n",
       "    </tr>\n",
       "    <tr>\n",
       "      <th>7</th>\n",
       "      <td>0.609756</td>\n",
       "      <td>0.638889</td>\n",
       "      <td>0.131579</td>\n",
       "      <td>0.315789</td>\n",
       "      <td>0.208161</td>\n",
       "      <td>0.833333</td>\n",
       "    </tr>\n",
       "    <tr>\n",
       "      <th>8</th>\n",
       "      <td>0.963415</td>\n",
       "      <td>0.875000</td>\n",
       "      <td>0.000000</td>\n",
       "      <td>0.263158</td>\n",
       "      <td>0.561699</td>\n",
       "      <td>1.000000</td>\n",
       "    </tr>\n",
       "    <tr>\n",
       "      <th>9</th>\n",
       "      <td>0.731707</td>\n",
       "      <td>0.652778</td>\n",
       "      <td>0.394737</td>\n",
       "      <td>0.052632</td>\n",
       "      <td>0.910991</td>\n",
       "      <td>0.666667</td>\n",
       "    </tr>\n",
       "    <tr>\n",
       "      <th>10</th>\n",
       "      <td>0.914634</td>\n",
       "      <td>0.916667</td>\n",
       "      <td>0.210526</td>\n",
       "      <td>0.210526</td>\n",
       "      <td>0.476864</td>\n",
       "      <td>0.800000</td>\n",
       "    </tr>\n",
       "    <tr>\n",
       "      <th>11</th>\n",
       "      <td>0.621951</td>\n",
       "      <td>0.791667</td>\n",
       "      <td>0.328947</td>\n",
       "      <td>0.263158</td>\n",
       "      <td>0.352609</td>\n",
       "      <td>0.733333</td>\n",
       "    </tr>\n",
       "    <tr>\n",
       "      <th>12</th>\n",
       "      <td>0.609756</td>\n",
       "      <td>0.736111</td>\n",
       "      <td>0.368421</td>\n",
       "      <td>0.368421</td>\n",
       "      <td>0.116965</td>\n",
       "      <td>0.900000</td>\n",
       "    </tr>\n",
       "    <tr>\n",
       "      <th>13</th>\n",
       "      <td>0.185366</td>\n",
       "      <td>0.138889</td>\n",
       "      <td>0.526316</td>\n",
       "      <td>0.631579</td>\n",
       "      <td>0.026991</td>\n",
       "      <td>0.433333</td>\n",
       "    </tr>\n",
       "    <tr>\n",
       "      <th>14</th>\n",
       "      <td>0.902439</td>\n",
       "      <td>0.875000</td>\n",
       "      <td>0.000000</td>\n",
       "      <td>0.105263</td>\n",
       "      <td>0.392120</td>\n",
       "      <td>0.933333</td>\n",
       "    </tr>\n",
       "    <tr>\n",
       "      <th>15</th>\n",
       "      <td>0.000000</td>\n",
       "      <td>0.000000</td>\n",
       "      <td>1.000000</td>\n",
       "      <td>0.684211</td>\n",
       "      <td>0.006597</td>\n",
       "      <td>0.066667</td>\n",
       "    </tr>\n",
       "    <tr>\n",
       "      <th>16</th>\n",
       "      <td>0.865854</td>\n",
       "      <td>0.861111</td>\n",
       "      <td>0.078947</td>\n",
       "      <td>0.315789</td>\n",
       "      <td>0.505659</td>\n",
       "      <td>0.866667</td>\n",
       "    </tr>\n",
       "    <tr>\n",
       "      <th>17</th>\n",
       "      <td>0.170732</td>\n",
       "      <td>0.291667</td>\n",
       "      <td>0.697368</td>\n",
       "      <td>1.000000</td>\n",
       "      <td>0.000000</td>\n",
       "      <td>0.000000</td>\n",
       "    </tr>\n",
       "    <tr>\n",
       "      <th>18</th>\n",
       "      <td>0.573171</td>\n",
       "      <td>0.930556</td>\n",
       "      <td>0.342105</td>\n",
       "      <td>0.578947</td>\n",
       "      <td>0.117293</td>\n",
       "      <td>0.366667</td>\n",
       "    </tr>\n",
       "    <tr>\n",
       "      <th>19</th>\n",
       "      <td>0.695122</td>\n",
       "      <td>0.652778</td>\n",
       "      <td>0.473684</td>\n",
       "      <td>0.368421</td>\n",
       "      <td>0.540832</td>\n",
       "      <td>0.666667</td>\n",
       "    </tr>\n",
       "    <tr>\n",
       "      <th>20</th>\n",
       "      <td>0.426829</td>\n",
       "      <td>0.513889</td>\n",
       "      <td>0.710526</td>\n",
       "      <td>0.526316</td>\n",
       "      <td>0.123307</td>\n",
       "      <td>0.600000</td>\n",
       "    </tr>\n",
       "    <tr>\n",
       "      <th>21</th>\n",
       "      <td>0.682927</td>\n",
       "      <td>0.722222</td>\n",
       "      <td>0.289474</td>\n",
       "      <td>0.263158</td>\n",
       "      <td>0.343515</td>\n",
       "      <td>0.766667</td>\n",
       "    </tr>\n",
       "    <tr>\n",
       "      <th>22</th>\n",
       "      <td>0.536585</td>\n",
       "      <td>0.680556</td>\n",
       "      <td>0.394737</td>\n",
       "      <td>0.421053</td>\n",
       "      <td>0.084653</td>\n",
       "      <td>0.833333</td>\n",
       "    </tr>\n",
       "    <tr>\n",
       "      <th>23</th>\n",
       "      <td>0.195122</td>\n",
       "      <td>0.166667</td>\n",
       "      <td>0.723684</td>\n",
       "      <td>0.473684</td>\n",
       "      <td>0.057462</td>\n",
       "      <td>0.133333</td>\n",
       "    </tr>\n",
       "    <tr>\n",
       "      <th>24</th>\n",
       "      <td>0.902439</td>\n",
       "      <td>0.930556</td>\n",
       "      <td>0.065789</td>\n",
       "      <td>0.263158</td>\n",
       "      <td>0.634397</td>\n",
       "      <td>0.966667</td>\n",
       "    </tr>\n",
       "  </tbody>\n",
       "</table>\n",
       "</div>"
      ],
      "text/plain": [
       "         SAT     Top10    Accept   SFRatio  Expenses  GradRate\n",
       "0   0.743902  0.847222  0.105263  0.368421  0.255144  0.900000\n",
       "1   1.000000  1.000000  0.144737  0.000000  1.000000  0.466667\n",
       "2   0.621951  0.472222  0.592105  0.157895  0.297461  0.166667\n",
       "3   0.743902  0.666667  0.131579  0.315789  0.415629  0.700000\n",
       "4   0.670732  0.763889  0.250000  0.368421  0.239835  0.766667\n",
       "5   0.817073  0.847222  0.118421  0.210526  0.427512  0.933333\n",
       "6   0.756098  0.861111  0.210526  0.315789  0.416996  0.933333\n",
       "7   0.609756  0.638889  0.131579  0.315789  0.208161  0.833333\n",
       "8   0.963415  0.875000  0.000000  0.263158  0.561699  1.000000\n",
       "9   0.731707  0.652778  0.394737  0.052632  0.910991  0.666667\n",
       "10  0.914634  0.916667  0.210526  0.210526  0.476864  0.800000\n",
       "11  0.621951  0.791667  0.328947  0.263158  0.352609  0.733333\n",
       "12  0.609756  0.736111  0.368421  0.368421  0.116965  0.900000\n",
       "13  0.185366  0.138889  0.526316  0.631579  0.026991  0.433333\n",
       "14  0.902439  0.875000  0.000000  0.105263  0.392120  0.933333\n",
       "15  0.000000  0.000000  1.000000  0.684211  0.006597  0.066667\n",
       "16  0.865854  0.861111  0.078947  0.315789  0.505659  0.866667\n",
       "17  0.170732  0.291667  0.697368  1.000000  0.000000  0.000000\n",
       "18  0.573171  0.930556  0.342105  0.578947  0.117293  0.366667\n",
       "19  0.695122  0.652778  0.473684  0.368421  0.540832  0.666667\n",
       "20  0.426829  0.513889  0.710526  0.526316  0.123307  0.600000\n",
       "21  0.682927  0.722222  0.289474  0.263158  0.343515  0.766667\n",
       "22  0.536585  0.680556  0.394737  0.421053  0.084653  0.833333\n",
       "23  0.195122  0.166667  0.723684  0.473684  0.057462  0.133333\n",
       "24  0.902439  0.930556  0.065789  0.263158  0.634397  0.966667"
      ]
     },
     "execution_count": 18,
     "metadata": {},
     "output_type": "execute_result"
    }
   ],
   "source": [
    "df_norm"
   ]
  },
  {
   "cell_type": "code",
   "execution_count": null,
   "id": "728289dd",
   "metadata": {},
   "outputs": [],
   "source": [
    "# creating dendrogram using dendrogram function and linkage function"
   ]
  },
  {
   "cell_type": "code",
   "execution_count": 58,
   "id": "4fd98a0f",
   "metadata": {},
   "outputs": [
    {
     "data": {
      "image/png": "[encoded data removed]",
      "text/plain": [
       "<Figure size 432x288 with 1 Axes>"
      ]
     },
     "metadata": {
      "needs_background": "light"
     },
     "output_type": "display_data"
    }
   ],
   "source": [
    "dendrogram = sch.dendrogram(sch.linkage(df_norm,method ='complete'))   # type of linkage method = complete"
   ]
  },
  {
   "cell_type": "code",
   "execution_count": 59,
   "id": "15835ed7",
   "metadata": {},
   "outputs": [
    {
     "data": {
      "image/png": "[encoded data removed]",
      "text/plain": [
       "<Figure size 432x288 with 1 Axes>"
      ]
     },
     "metadata": {
      "needs_background": "light"
     },
     "output_type": "display_data"
    }
   ],
   "source": [
    "dendrogram = sch.dendrogram(sch.linkage(df_norm,method ='single'))"
   ]
  },
  {
   "cell_type": "code",
   "execution_count": 60,
   "id": "5e9312bb",
   "metadata": {},
   "outputs": [
    {
     "data": {
      "image/png": "[encoded data removed]",
      "text/plain": [
       "<Figure size 432x288 with 1 Axes>"
      ]
     },
     "metadata": {
      "needs_background": "light"
     },
     "output_type": "display_data"
    }
   ],
   "source": [
    "dendrogram = sch.dendrogram(sch.linkage(df_norm,method ='average'))"
   ]
  },
  {
   "cell_type": "code",
   "execution_count": 61,
   "id": "3121b135",
   "metadata": {},
   "outputs": [
    {
     "data": {
      "image/png": "[encoded data removed]",
      "text/plain": [
       "<Figure size 432x288 with 1 Axes>"
      ]
     },
     "metadata": {
      "needs_background": "light"
     },
     "output_type": "display_data"
    }
   ],
   "source": [
    "dendrogram = sch.dendrogram(sch.linkage(df_norm,method ='centroid'))"
   ]
  },
  {
   "cell_type": "code",
   "execution_count": null,
   "id": "0d26b7cb",
   "metadata": {},
   "outputs": [],
   "source": [
    "# creation of cluster using agglomerativeclustering function\n"
   ]
  },
  {
   "cell_type": "code",
   "execution_count": 62,
   "id": "3deb6e12",
   "metadata": {},
   "outputs": [],
   "source": [
    "hc = AgglomerativeClustering(n_clusters = 3, affinity = 'euclidean', linkage='complete')"
   ]
  },
  {
   "cell_type": "code",
   "execution_count": 63,
   "id": "23b60de0",
   "metadata": {},
   "outputs": [],
   "source": [
    "# predicting clustering on normalized data\n",
    "y_hc = hc.fit_predict(df_norm)\n",
    "clusters = pd.DataFrame(y_hc,columns =['Clusters'])  #creating a dataframe to see the created clusters. Column name will be Clusters and below that there will be predicted values that is y_hc"
   ]
  },
  {
   "cell_type": "code",
   "execution_count": 64,
   "id": "27969b3f",
   "metadata": {},
   "outputs": [
    {
     "data": {
      "text/html": [
       "<div>\n",
       "<style scoped>\n",
       "    .dataframe tbody tr th:only-of-type {\n",
       "        vertical-align: middle;\n",
       "    }\n",
       "\n",
       "    .dataframe tbody tr th {\n",
       "        vertical-align: top;\n",
       "    }\n",
       "\n",
       "    .dataframe thead th {\n",
       "        text-align: right;\n",
       "    }\n",
       "</style>\n",
       "<table border=\"1\" class=\"dataframe\">\n",
       "  <thead>\n",
       "    <tr style=\"text-align: right;\">\n",
       "      <th></th>\n",
       "      <th>Clusters</th>\n",
       "    </tr>\n",
       "  </thead>\n",
       "  <tbody>\n",
       "    <tr>\n",
       "      <th>0</th>\n",
       "      <td>0</td>\n",
       "    </tr>\n",
       "    <tr>\n",
       "      <th>1</th>\n",
       "      <td>2</td>\n",
       "    </tr>\n",
       "    <tr>\n",
       "      <th>2</th>\n",
       "      <td>0</td>\n",
       "    </tr>\n",
       "    <tr>\n",
       "      <th>3</th>\n",
       "      <td>0</td>\n",
       "    </tr>\n",
       "    <tr>\n",
       "      <th>4</th>\n",
       "      <td>0</td>\n",
       "    </tr>\n",
       "    <tr>\n",
       "      <th>5</th>\n",
       "      <td>2</td>\n",
       "    </tr>\n",
       "    <tr>\n",
       "      <th>6</th>\n",
       "      <td>2</td>\n",
       "    </tr>\n",
       "    <tr>\n",
       "      <th>7</th>\n",
       "      <td>0</td>\n",
       "    </tr>\n",
       "    <tr>\n",
       "      <th>8</th>\n",
       "      <td>2</td>\n",
       "    </tr>\n",
       "    <tr>\n",
       "      <th>9</th>\n",
       "      <td>2</td>\n",
       "    </tr>\n",
       "    <tr>\n",
       "      <th>10</th>\n",
       "      <td>2</td>\n",
       "    </tr>\n",
       "    <tr>\n",
       "      <th>11</th>\n",
       "      <td>0</td>\n",
       "    </tr>\n",
       "    <tr>\n",
       "      <th>12</th>\n",
       "      <td>0</td>\n",
       "    </tr>\n",
       "    <tr>\n",
       "      <th>13</th>\n",
       "      <td>1</td>\n",
       "    </tr>\n",
       "    <tr>\n",
       "      <th>14</th>\n",
       "      <td>2</td>\n",
       "    </tr>\n",
       "    <tr>\n",
       "      <th>15</th>\n",
       "      <td>1</td>\n",
       "    </tr>\n",
       "    <tr>\n",
       "      <th>16</th>\n",
       "      <td>2</td>\n",
       "    </tr>\n",
       "    <tr>\n",
       "      <th>17</th>\n",
       "      <td>1</td>\n",
       "    </tr>\n",
       "    <tr>\n",
       "      <th>18</th>\n",
       "      <td>0</td>\n",
       "    </tr>\n",
       "    <tr>\n",
       "      <th>19</th>\n",
       "      <td>2</td>\n",
       "    </tr>\n",
       "    <tr>\n",
       "      <th>20</th>\n",
       "      <td>0</td>\n",
       "    </tr>\n",
       "    <tr>\n",
       "      <th>21</th>\n",
       "      <td>0</td>\n",
       "    </tr>\n",
       "    <tr>\n",
       "      <th>22</th>\n",
       "      <td>0</td>\n",
       "    </tr>\n",
       "    <tr>\n",
       "      <th>23</th>\n",
       "      <td>1</td>\n",
       "    </tr>\n",
       "    <tr>\n",
       "      <th>24</th>\n",
       "      <td>2</td>\n",
       "    </tr>\n",
       "  </tbody>\n",
       "</table>\n",
       "</div>"
      ],
      "text/plain": [
       "    Clusters\n",
       "0          0\n",
       "1          2\n",
       "2          0\n",
       "3          0\n",
       "4          0\n",
       "5          2\n",
       "6          2\n",
       "7          0\n",
       "8          2\n",
       "9          2\n",
       "10         2\n",
       "11         0\n",
       "12         0\n",
       "13         1\n",
       "14         2\n",
       "15         1\n",
       "16         2\n",
       "17         1\n",
       "18         0\n",
       "19         2\n",
       "20         0\n",
       "21         0\n",
       "22         0\n",
       "23         1\n",
       "24         2"
      ]
     },
     "execution_count": 64,
     "metadata": {},
     "output_type": "execute_result"
    }
   ],
   "source": [
    "clusters"
   ]
  },
  {
   "cell_type": "code",
   "execution_count": 65,
   "id": "8293b2d8",
   "metadata": {},
   "outputs": [],
   "source": [
    "# creating cluster labels so that we will understand which university is belonging to which cluster.\n",
    "\n",
    "Univ['h_clusterid'] = hc.labels_"
   ]
  },
  {
   "cell_type": "code",
   "execution_count": 66,
   "id": "fc603c55",
   "metadata": {},
   "outputs": [
    {
     "data": {
      "text/html": [
       "<div>\n",
       "<style scoped>\n",
       "    .dataframe tbody tr th:only-of-type {\n",
       "        vertical-align: middle;\n",
       "    }\n",
       "\n",
       "    .dataframe tbody tr th {\n",
       "        vertical-align: top;\n",
       "    }\n",
       "\n",
       "    .dataframe thead th {\n",
       "        text-align: right;\n",
       "    }\n",
       "</style>\n",
       "<table border=\"1\" class=\"dataframe\">\n",
       "  <thead>\n",
       "    <tr style=\"text-align: right;\">\n",
       "      <th></th>\n",
       "      <th>Univ</th>\n",
       "      <th>SAT</th>\n",
       "      <th>Top10</th>\n",
       "      <th>Accept</th>\n",
       "      <th>SFRatio</th>\n",
       "      <th>Expenses</th>\n",
       "      <th>GradRate</th>\n",
       "      <th>h_clusterid</th>\n",
       "    </tr>\n",
       "  </thead>\n",
       "  <tbody>\n",
       "    <tr>\n",
       "      <th>0</th>\n",
       "      <td>Brown</td>\n",
       "      <td>1310</td>\n",
       "      <td>89</td>\n",
       "      <td>22</td>\n",
       "      <td>13</td>\n",
       "      <td>22704</td>\n",
       "      <td>94</td>\n",
       "      <td>0</td>\n",
       "    </tr>\n",
       "    <tr>\n",
       "      <th>1</th>\n",
       "      <td>CalTech</td>\n",
       "      <td>1415</td>\n",
       "      <td>100</td>\n",
       "      <td>25</td>\n",
       "      <td>6</td>\n",
       "      <td>63575</td>\n",
       "      <td>81</td>\n",
       "      <td>2</td>\n",
       "    </tr>\n",
       "    <tr>\n",
       "      <th>2</th>\n",
       "      <td>CMU</td>\n",
       "      <td>1260</td>\n",
       "      <td>62</td>\n",
       "      <td>59</td>\n",
       "      <td>9</td>\n",
       "      <td>25026</td>\n",
       "      <td>72</td>\n",
       "      <td>0</td>\n",
       "    </tr>\n",
       "    <tr>\n",
       "      <th>3</th>\n",
       "      <td>Columbia</td>\n",
       "      <td>1310</td>\n",
       "      <td>76</td>\n",
       "      <td>24</td>\n",
       "      <td>12</td>\n",
       "      <td>31510</td>\n",
       "      <td>88</td>\n",
       "      <td>0</td>\n",
       "    </tr>\n",
       "    <tr>\n",
       "      <th>4</th>\n",
       "      <td>Cornell</td>\n",
       "      <td>1280</td>\n",
       "      <td>83</td>\n",
       "      <td>33</td>\n",
       "      <td>13</td>\n",
       "      <td>21864</td>\n",
       "      <td>90</td>\n",
       "      <td>0</td>\n",
       "    </tr>\n",
       "    <tr>\n",
       "      <th>5</th>\n",
       "      <td>Dartmouth</td>\n",
       "      <td>1340</td>\n",
       "      <td>89</td>\n",
       "      <td>23</td>\n",
       "      <td>10</td>\n",
       "      <td>32162</td>\n",
       "      <td>95</td>\n",
       "      <td>2</td>\n",
       "    </tr>\n",
       "    <tr>\n",
       "      <th>6</th>\n",
       "      <td>Duke</td>\n",
       "      <td>1315</td>\n",
       "      <td>90</td>\n",
       "      <td>30</td>\n",
       "      <td>12</td>\n",
       "      <td>31585</td>\n",
       "      <td>95</td>\n",
       "      <td>2</td>\n",
       "    </tr>\n",
       "    <tr>\n",
       "      <th>7</th>\n",
       "      <td>Georgetown</td>\n",
       "      <td>1255</td>\n",
       "      <td>74</td>\n",
       "      <td>24</td>\n",
       "      <td>12</td>\n",
       "      <td>20126</td>\n",
       "      <td>92</td>\n",
       "      <td>0</td>\n",
       "    </tr>\n",
       "    <tr>\n",
       "      <th>8</th>\n",
       "      <td>Harvard</td>\n",
       "      <td>1400</td>\n",
       "      <td>91</td>\n",
       "      <td>14</td>\n",
       "      <td>11</td>\n",
       "      <td>39525</td>\n",
       "      <td>97</td>\n",
       "      <td>2</td>\n",
       "    </tr>\n",
       "    <tr>\n",
       "      <th>9</th>\n",
       "      <td>JohnsHopkins</td>\n",
       "      <td>1305</td>\n",
       "      <td>75</td>\n",
       "      <td>44</td>\n",
       "      <td>7</td>\n",
       "      <td>58691</td>\n",
       "      <td>87</td>\n",
       "      <td>2</td>\n",
       "    </tr>\n",
       "    <tr>\n",
       "      <th>10</th>\n",
       "      <td>MIT</td>\n",
       "      <td>1380</td>\n",
       "      <td>94</td>\n",
       "      <td>30</td>\n",
       "      <td>10</td>\n",
       "      <td>34870</td>\n",
       "      <td>91</td>\n",
       "      <td>2</td>\n",
       "    </tr>\n",
       "    <tr>\n",
       "      <th>11</th>\n",
       "      <td>Northwestern</td>\n",
       "      <td>1260</td>\n",
       "      <td>85</td>\n",
       "      <td>39</td>\n",
       "      <td>11</td>\n",
       "      <td>28052</td>\n",
       "      <td>89</td>\n",
       "      <td>0</td>\n",
       "    </tr>\n",
       "    <tr>\n",
       "      <th>12</th>\n",
       "      <td>NotreDame</td>\n",
       "      <td>1255</td>\n",
       "      <td>81</td>\n",
       "      <td>42</td>\n",
       "      <td>13</td>\n",
       "      <td>15122</td>\n",
       "      <td>94</td>\n",
       "      <td>0</td>\n",
       "    </tr>\n",
       "    <tr>\n",
       "      <th>13</th>\n",
       "      <td>PennState</td>\n",
       "      <td>1081</td>\n",
       "      <td>38</td>\n",
       "      <td>54</td>\n",
       "      <td>18</td>\n",
       "      <td>10185</td>\n",
       "      <td>80</td>\n",
       "      <td>1</td>\n",
       "    </tr>\n",
       "    <tr>\n",
       "      <th>14</th>\n",
       "      <td>Princeton</td>\n",
       "      <td>1375</td>\n",
       "      <td>91</td>\n",
       "      <td>14</td>\n",
       "      <td>8</td>\n",
       "      <td>30220</td>\n",
       "      <td>95</td>\n",
       "      <td>2</td>\n",
       "    </tr>\n",
       "    <tr>\n",
       "      <th>15</th>\n",
       "      <td>Purdue</td>\n",
       "      <td>1005</td>\n",
       "      <td>28</td>\n",
       "      <td>90</td>\n",
       "      <td>19</td>\n",
       "      <td>9066</td>\n",
       "      <td>69</td>\n",
       "      <td>1</td>\n",
       "    </tr>\n",
       "    <tr>\n",
       "      <th>16</th>\n",
       "      <td>Stanford</td>\n",
       "      <td>1360</td>\n",
       "      <td>90</td>\n",
       "      <td>20</td>\n",
       "      <td>12</td>\n",
       "      <td>36450</td>\n",
       "      <td>93</td>\n",
       "      <td>2</td>\n",
       "    </tr>\n",
       "    <tr>\n",
       "      <th>17</th>\n",
       "      <td>TexasA&amp;M</td>\n",
       "      <td>1075</td>\n",
       "      <td>49</td>\n",
       "      <td>67</td>\n",
       "      <td>25</td>\n",
       "      <td>8704</td>\n",
       "      <td>67</td>\n",
       "      <td>1</td>\n",
       "    </tr>\n",
       "    <tr>\n",
       "      <th>18</th>\n",
       "      <td>UCBerkeley</td>\n",
       "      <td>1240</td>\n",
       "      <td>95</td>\n",
       "      <td>40</td>\n",
       "      <td>17</td>\n",
       "      <td>15140</td>\n",
       "      <td>78</td>\n",
       "      <td>0</td>\n",
       "    </tr>\n",
       "    <tr>\n",
       "      <th>19</th>\n",
       "      <td>UChicago</td>\n",
       "      <td>1290</td>\n",
       "      <td>75</td>\n",
       "      <td>50</td>\n",
       "      <td>13</td>\n",
       "      <td>38380</td>\n",
       "      <td>87</td>\n",
       "      <td>2</td>\n",
       "    </tr>\n",
       "    <tr>\n",
       "      <th>20</th>\n",
       "      <td>UMichigan</td>\n",
       "      <td>1180</td>\n",
       "      <td>65</td>\n",
       "      <td>68</td>\n",
       "      <td>16</td>\n",
       "      <td>15470</td>\n",
       "      <td>85</td>\n",
       "      <td>0</td>\n",
       "    </tr>\n",
       "    <tr>\n",
       "      <th>21</th>\n",
       "      <td>UPenn</td>\n",
       "      <td>1285</td>\n",
       "      <td>80</td>\n",
       "      <td>36</td>\n",
       "      <td>11</td>\n",
       "      <td>27553</td>\n",
       "      <td>90</td>\n",
       "      <td>0</td>\n",
       "    </tr>\n",
       "    <tr>\n",
       "      <th>22</th>\n",
       "      <td>UVA</td>\n",
       "      <td>1225</td>\n",
       "      <td>77</td>\n",
       "      <td>44</td>\n",
       "      <td>14</td>\n",
       "      <td>13349</td>\n",
       "      <td>92</td>\n",
       "      <td>0</td>\n",
       "    </tr>\n",
       "    <tr>\n",
       "      <th>23</th>\n",
       "      <td>UWisconsin</td>\n",
       "      <td>1085</td>\n",
       "      <td>40</td>\n",
       "      <td>69</td>\n",
       "      <td>15</td>\n",
       "      <td>11857</td>\n",
       "      <td>71</td>\n",
       "      <td>1</td>\n",
       "    </tr>\n",
       "    <tr>\n",
       "      <th>24</th>\n",
       "      <td>Yale</td>\n",
       "      <td>1375</td>\n",
       "      <td>95</td>\n",
       "      <td>19</td>\n",
       "      <td>11</td>\n",
       "      <td>43514</td>\n",
       "      <td>96</td>\n",
       "      <td>2</td>\n",
       "    </tr>\n",
       "  </tbody>\n",
       "</table>\n",
       "</div>"
      ],
      "text/plain": [
       "            Univ   SAT  Top10  Accept  SFRatio  Expenses  GradRate  \\\n",
       "0          Brown  1310     89      22       13     22704        94   \n",
       "1        CalTech  1415    100      25        6     63575        81   \n",
       "2            CMU  1260     62      59        9     25026        72   \n",
       "3       Columbia  1310     76      24       12     31510        88   \n",
       "4        Cornell  1280     83      33       13     21864        90   \n",
       "5      Dartmouth  1340     89      23       10     32162        95   \n",
       "6           Duke  1315     90      30       12     31585        95   \n",
       "7     Georgetown  1255     74      24       12     20126        92   \n",
       "8        Harvard  1400     91      14       11     39525        97   \n",
       "9   JohnsHopkins  1305     75      44        7     58691        87   \n",
       "10           MIT  1380     94      30       10     34870        91   \n",
       "11  Northwestern  1260     85      39       11     28052        89   \n",
       "12     NotreDame  1255     81      42       13     15122        94   \n",
       "13     PennState  1081     38      54       18     10185        80   \n",
       "14     Princeton  1375     91      14        8     30220        95   \n",
       "15        Purdue  1005     28      90       19      9066        69   \n",
       "16      Stanford  1360     90      20       12     36450        93   \n",
       "17      TexasA&M  1075     49      67       25      8704        67   \n",
       "18    UCBerkeley  1240     95      40       17     15140        78   \n",
       "19      UChicago  1290     75      50       13     38380        87   \n",
       "20     UMichigan  1180     65      68       16     15470        85   \n",
       "21         UPenn  1285     80      36       11     27553        90   \n",
       "22           UVA  1225     77      44       14     13349        92   \n",
       "23    UWisconsin  1085     40      69       15     11857        71   \n",
       "24          Yale  1375     95      19       11     43514        96   \n",
       "\n",
       "    h_clusterid  \n",
       "0             0  \n",
       "1             2  \n",
       "2             0  \n",
       "3             0  \n",
       "4             0  \n",
       "5             2  \n",
       "6             2  \n",
       "7             0  \n",
       "8             2  \n",
       "9             2  \n",
       "10            2  \n",
       "11            0  \n",
       "12            0  \n",
       "13            1  \n",
       "14            2  \n",
       "15            1  \n",
       "16            2  \n",
       "17            1  \n",
       "18            0  \n",
       "19            2  \n",
       "20            0  \n",
       "21            0  \n",
       "22            0  \n",
       "23            1  \n",
       "24            2  "
      ]
     },
     "execution_count": 66,
     "metadata": {},
     "output_type": "execute_result"
    }
   ],
   "source": [
    "Univ"
   ]
  },
  {
   "cell_type": "code",
   "execution_count": null,
   "id": "f6e5c78e",
   "metadata": {},
   "outputs": [],
   "source": []
  }
 ],
 "metadata": {
  "kernelspec": {
   "display_name": "Python 3",
   "language": "python",
   "name": "python3"
  },
  "language_info": {
   "codemirror_mode": {
    "name": "ipython",
    "version": 3
   },
   "file_extension": ".py",
   "mimetype": "text/x-python",
   "name": "python",
   "nbconvert_exporter": "python",
   "pygments_lexer": "ipython3",
   "version": "3.8.8"
  }
 },
 "nbformat": 4,
 "nbformat_minor": 5
}
